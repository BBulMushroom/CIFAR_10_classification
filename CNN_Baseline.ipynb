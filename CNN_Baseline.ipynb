<link href="http://github.com/yrgoldteeth/darkdowncss/raw/master/darkdown.css" rel="stylesheet"></link> 
{
  "nbformat": 4,
  "nbformat_minor": 0,
  "metadata": {
    "colab": {
      "name": "CNN_Baseline.ipynb",
      "provenance": [],
      "collapsed_sections": [],
      "include_colab_link": true
    },
    "kernelspec": {
      "name": "python3",
      "display_name": "Python 3"
    },
    "language_info": {
      "name": "python"
    },
    "accelerator": "GPU"
  },
  "cells": [
    {
      "cell_type": "markdown",
      "metadata": {
        "id": "view-in-github",
        "colab_type": "text"
      },
      "source": [
        "<a href=\"https://colab.research.google.com/github/BBulMushroom/CIFAR_10_classification/blob/Base/CNN_Baseline.ipynb\" target=\"_parent\"><img src=\"https://colab.research.google.com/assets/colab-badge.svg\" alt=\"Open In Colab\"/></a>"
      ]
    },
    {
      "cell_type": "markdown",
      "metadata": {
        "id": "wiTQibprRnlj"
      },
      "source": [
        "# **Cifar10 image classification**\n",
        "******************************************\n",
        "**점수관련**  \n",
        "본 프로젝트는 Accuracy 점수와 보고서를 성적에 반영할 예정입니다. 평가 항목은 아래와 같습니다. \n",
        "\n",
        "A. 결과 (40%)\n",
        "- Metric 성능 :(이미지 분류 - Accuracy)\n",
        "\n",
        "B. 신규성 (30%)\n",
        "- Network 변경 내용 - **필수**\n",
        "- 성능 개선 및 overfitting 방지 시도 (ex. train validation split)\n",
        "\n",
        "C. 이론적 근거 (20%)\n",
        "- 기존 baseline과의 차별점 \n",
        "- 성능 개선을 위한 시도와 이유\n",
        "\n",
        "D. 보고서 완성도 (10%)\n",
        "\n",
        "******************************************\n",
        "**보고서**\n",
        "1. 연구 목적\n",
        "2. 모델 구조\n",
        "3. 실험 내용\n",
        "4. 실험 결과\n",
        "5. 고찰 및 결론\n",
        "6. Colab 파일 (동작 가능여부)\n",
        "\n",
        "제출하실 파일은 **주피터 노트북 파일**('.ipynb',파일>다운로드)과 **결과 보고서**(pdf)입니다.\n",
        "******************************************\n",
        "**코드 검증**  \n",
        "- 코드 성능 평가(metric)는 torchvision.datasets에 있는 cifar10의 testset을 사용해 Accuracy로 평가합니다.\n",
        "- pretrain 모델 사용 불가능합니다.\n",
        "\n",
        "또한 Random 라이브러리 사용시에 seed 고정하는 등 재현을 고려하시고 코딩부탁드립니다. \n",
        "******************************************\n",
        "**GPU 사용 법**  \n",
        "런타임 > 런타임 유형 변경 > 하드웨어 가속기에서 GPU를 선택하면 GPU를 사용 할 수 있습니다.  \n",
        "******************************************\n",
        "**Colab 사용시 유의사항**  \n",
        "12시간 단위로 가상머신을 사용할 수 있고 12시간이 지나면 모든 파일과 작업로그들이 초기화 됩니다. 또한, 12시간 넘게 GPU를 사용하기는 어려우니 일찍 시작하셔서 틈틈히 실험해보시는 것을 추천드립니다.\n",
        "\n",
        "\n",
        "******************************************\n",
        "**Q?**"
      ]
    },
    {
      "cell_type": "code",
      "metadata": {
        "id": "NtweS09sMWoh",
        "colab": {
          "base_uri": "https://localhost:8080/"
        },
        "outputId": "2f0da70a-cf84-4ef7-aec7-3ae2c21bc5fc"
      },
      "source": [
        "# Training\n",
        "\n",
        "import torch\n",
        "import torchvision\n",
        "import torchvision.transforms as transforms\n",
        "from torch.utils.data import DataLoader\n",
        "import torch.nn as nn\n",
        "import torch.nn.functional as F\n",
        "import torch.optim as optim\n",
        "import matplotlib.pyplot as plt\n",
        "import numpy as np\n",
        "from tqdm import tqdm\n",
        "from google.colab import drive\n",
        "import time\n",
        "\n",
        "drive.mount('/content/gdrive')\n",
        "\n",
        "# 하이퍼 파라미터\n",
        "EPOCH = 5\n",
        "batch_size = 8\n",
        "learning_rate = 1e-3\n",
        "momentum = 0.9\n",
        "\n",
        "device = torch.device('cuda:0' if torch.cuda.is_available() else 'cpu')\n",
        "print(f'{device} is available')\n",
        "\n",
        "# 분류 Class list\n",
        "classes = ('plane', 'car', 'bird', 'cat',\n",
        "           'deer', 'dog', 'frog', 'horse', 'ship', 'truck')\n",
        "\n",
        "\n",
        "# 이미지 전처리\n",
        "transform = transforms.Compose(\n",
        "    [transforms.ToTensor(),\n",
        "    transforms.Normalize((0.5,0.5,0.5), (0.5,0.5,0.5))]\n",
        "    )\n",
        "\n",
        "# Dataset. 변경 불가\n",
        "trainset = torchvision.datasets.CIFAR10(root='./data', train=True, download=True, transform=transform)\n",
        "testset = torchvision.datasets.CIFAR10(root='./data', train=False, download=True, transform=transform)\n",
        "trainloader = torch.utils.data.DataLoader(trainset, batch_size=batch_size, shuffle=True)\n",
        "testloader = torch.utils.data.DataLoader(testset, batch_size=batch_size, shuffle=False)\n",
        "\n",
        "\n",
        "# Baseline CNN Network\n",
        "class Net(nn.Module):\n",
        "  def __init__(self):\n",
        "    super(Net, self).__init__()\n",
        "    self.conv1 = nn.Conv2d(3, 6, 5)\n",
        "    self.pool1 = nn.MaxPool2d(2,2)\n",
        "    self.conv2 = nn.Conv2d(6, 16, 5)\n",
        "    self.pool2 = nn.MaxPool2d(2, 2)\n",
        "    self.fc1 = nn.Linear(16 * 5 * 5, 120) \n",
        "    self.fc2 = nn.Linear(120, 10) # 클래스 개수 10 \n",
        "    \n",
        "  def forward(self, x):\n",
        "    x = self.pool1(F.relu(self.conv1(x)))\n",
        "    x = self.pool2(F.relu(self.conv2(x)))\n",
        "\n",
        "    x = x.view(-1, 16 * 5 * 5) # -1 : batchsize\n",
        "    x = F.relu(self.fc1(x))\n",
        "    x = F.relu(self.fc2(x))\n",
        "\n",
        "    return x\n",
        "\n",
        "# Network 선언\n",
        "net = Net().to(device)\n",
        "\n",
        "# criterion. 변경 '가능'\n",
        "criterion = nn.CrossEntropyLoss()\n",
        "\n",
        "# Optimizer\n",
        "optimizer = optim.SGD(net.parameters(), lr=learning_rate, momentum=momentum)\n",
        "\n",
        "loss_ = []\n",
        "n = len(trainloader)\n",
        "\n",
        "# Training\n",
        "for epoch in range(EPOCH): \n",
        "\n",
        "  running_loss = 0.0\n",
        "  start = time.time()\n",
        "  for i, data in tqdm(enumerate(trainloader, 0)):\n",
        "    \n",
        "    inputs, labels = data[0].to(device), data[1].to(device) # 배치 데이터\n",
        "\n",
        "    optimizer.zero_grad() # 배치마다 optimizer 초기화\n",
        "\n",
        "    outputs = net(inputs) \n",
        "    loss = criterion(outputs, labels) # 크로스 엔트로피 손실함수 계산 \n",
        "      \n",
        "\n",
        "    loss.backward() # backpropagation\n",
        "    optimizer.step() # 가중치 최적화\n",
        "\n",
        "    running_loss += loss.item()\n",
        "  \n",
        "  torch.save(net.state_dict() ,'/content/gdrive/Shareddrives/전자공학종합설계/first model//model_ckpt.pt') # 모델 저장, path 수정\n",
        "  loss_.append(running_loss / n)\n",
        "  print('[%d] loss: %.3f' %(epoch + 1, running_loss / len(trainloader)))\n",
        "  print(\"epoch time :\", time.time()-start)\n",
        "\n",
        "\n",
        "\n"
      ],
      "execution_count": null,
      "outputs": [
        {
          "output_type": "stream",
          "name": "stdout",
          "text": [
            "Drive already mounted at /content/gdrive; to attempt to forcibly remount, call drive.mount(\"/content/gdrive\", force_remount=True).\n",
            "cuda:0 is available\n",
            "Files already downloaded and verified\n",
            "Files already downloaded and verified\n"
          ]
        },
        {
          "output_type": "stream",
          "name": "stderr",
          "text": [
            "6250it [00:34, 183.60it/s]\n"
          ]
        },
        {
          "output_type": "stream",
          "name": "stdout",
          "text": [
            "[1] loss: 2.026\n",
            "epoch time : 34.07217860221863\n"
          ]
        },
        {
          "output_type": "stream",
          "name": "stderr",
          "text": [
            "6250it [00:34, 183.34it/s]\n"
          ]
        },
        {
          "output_type": "stream",
          "name": "stdout",
          "text": [
            "[2] loss: 1.434\n",
            "epoch time : 34.11081147193909\n"
          ]
        },
        {
          "output_type": "stream",
          "name": "stderr",
          "text": [
            "6250it [00:34, 183.46it/s]\n"
          ]
        },
        {
          "output_type": "stream",
          "name": "stdout",
          "text": [
            "[3] loss: 1.267\n",
            "epoch time : 34.088175773620605\n"
          ]
        },
        {
          "output_type": "stream",
          "name": "stderr",
          "text": [
            "6250it [00:34, 183.14it/s]\n"
          ]
        },
        {
          "output_type": "stream",
          "name": "stdout",
          "text": [
            "[4] loss: 1.168\n",
            "epoch time : 34.15419125556946\n"
          ]
        },
        {
          "output_type": "stream",
          "name": "stderr",
          "text": [
            "6250it [00:34, 183.65it/s]"
          ]
        },
        {
          "output_type": "stream",
          "name": "stdout",
          "text": [
            "[5] loss: 1.099\n",
            "epoch time : 34.054558992385864\n"
          ]
        },
        {
          "output_type": "stream",
          "name": "stderr",
          "text": [
            "\n"
          ]
        }
      ]
    },
    {
      "cell_type": "markdown",
      "metadata": {
        "id": "sf9UIvloTtt2"
      },
      "source": [
        "# Evaluation"
      ]
    },
    {
      "cell_type": "code",
      "metadata": {
        "id": "amoq6d5NMYvA",
        "colab": {
          "base_uri": "https://localhost:8080/"
        },
        "outputId": "f09e9f14-a02f-4da3-dc6f-f4c9933e9b70"
      },
      "source": [
        "# Evaluation\n",
        "\n",
        "# 수정\n",
        "net = Net()\n",
        "net.to(device)\n",
        "net.load_state_dict(torch.load('/content/gdrive/Shareddrives/전자공학종합설계/first model//model_ckpt.pt')) # 저장된 모델 불러오기\n",
        "\n",
        "\n",
        "# 이하 전체 수정 불가\n",
        "correct = 0\n",
        "total = 0\n",
        "correct_pred = {classname: 0 for classname in classes}\n",
        "total_pred = {classname: 0 for classname in classes}\n",
        "# since we're not training, we don't need to calculate the gradients for our outputs\n",
        "with torch.no_grad():\n",
        "    for data in testloader:\n",
        "        images, labels = data[0].to(device), data[1].to(device)\n",
        "        # calculate outputs by running images through the network\n",
        "        outputs = net(images)\n",
        "        # the class with the highest energy is what we choose as prediction\n",
        "        _, predicted = torch.max(outputs.data, 1)\n",
        "        total += labels.size(0)\n",
        "        correct += (predicted == labels).sum().item()\n",
        "        # collect the correct predictions for each class\n",
        "        for label, prediction in zip(labels, predicted):\n",
        "            if label == prediction:\n",
        "                correct_pred[classes[label]] += 1\n",
        "            total_pred[classes[label]] += 1\n",
        "\n",
        "print('Accuracy of the network on the 10000 test images: %d %%' % (\n",
        "    100 * correct / total))\n",
        "\n",
        "# print accuracy for each class\n",
        "for classname, correct_count in correct_pred.items():\n",
        "    accuracy = 100 * float(correct_count) / total_pred[classname]\n",
        "    print(\"Accuracy for class {:5s} is: {:.1f} %\".format(classname,\n",
        "                                                   accuracy))"
      ],
      "execution_count": null,
      "outputs": [
        {
          "output_type": "stream",
          "name": "stdout",
          "text": [
            "Accuracy of the network on the 10000 test images: 58 %\n",
            "Accuracy for class plane is: 70.6 %\n",
            "Accuracy for class car   is: 64.4 %\n",
            "Accuracy for class bird  is: 47.6 %\n",
            "Accuracy for class cat   is: 38.5 %\n",
            "Accuracy for class deer  is: 60.4 %\n",
            "Accuracy for class dog   is: 39.6 %\n",
            "Accuracy for class frog  is: 56.5 %\n",
            "Accuracy for class horse is: 63.0 %\n",
            "Accuracy for class ship  is: 76.9 %\n",
            "Accuracy for class truck is: 71.1 %\n"
          ]
        }
      ]
    },
    {
      "cell_type": "code",
      "metadata": {
        "id": "1lUnuy-g4Aiq",
        "colab": {
          "base_uri": "https://localhost:8080/",
          "height": 231
        },
        "outputId": "312c0a2d-40cc-409a-e77d-a6b397263fde"
      },
      "source": [
        "import matplotlib.pyplot as plt\n",
        "import numpy as np\n",
        "\n",
        "def imshow(img):\n",
        "    img = img / 2 + 0.5     # unnormalize\n",
        "    npimg = img.numpy()\n",
        "    plt.figure(figsize=(20,10))\n",
        "    plt.imshow(np.transpose(npimg, (1, 2, 0)))\n",
        "    plt.show()\n",
        "\n",
        "dataiter = iter(testloader)\n",
        "images, labels = dataiter.next()\n",
        "\n",
        "# print images\n",
        "imshow(torchvision.utils.make_grid(images))\n",
        "print('GroundTruth: ', ' '.join('%5s' % classes[labels[j]] for j in range(8)))\n",
        "\n",
        "net = Net()\n",
        "net.to(device)\n",
        "net.load_state_dict(torch.load('/content/gdrive/Shareddrives/전자공학종합설계/first model//model_ckpt.pt'))\n",
        "\n",
        "_, predicted = torch.max(outputs, 1)\n",
        "\n",
        "print('Predicted: ', ' '.join('%5s' % classes[predicted[j]]\n",
        "                              for j in range(8)))"
      ],
      "execution_count": null,
      "outputs": [
        {
          "output_type": "display_data",
          "data": {
            "image/png": "[encoded data removed]",
            "text/plain": [
              "<Figure size 1440x720 with 1 Axes>"
            ]
          },
          "metadata": {
            "needs_background": "light"
          }
        },
        {
          "output_type": "stream",
          "name": "stdout",
          "text": [
            "GroundTruth:    cat  ship  ship plane  frog  frog   car  frog\n",
            "Predicted:    cat horse  deer   cat  deer   dog  deer horse\n"
          ]
        }
      ]
    }
  ]
}
